{
  "nbformat": 4,
  "nbformat_minor": 0,
  "metadata": {
    "colab": {
      "provenance": [],
      "authorship_tag": "ABX9TyNOE6A7pOy2/9DtgI1Z81pB",
      "include_colab_link": true
    },
    "kernelspec": {
      "name": "python3",
      "display_name": "Python 3"
    },
    "language_info": {
      "name": "python"
    }
  },
  "cells": [
    {
      "cell_type": "markdown",
      "metadata": {
        "id": "view-in-github",
        "colab_type": "text"
      },
      "source": [
        "<a href=\"https://colab.research.google.com/github/Raunakplayer23/Raunakplayer23/blob/main/Untitled3.ipynb\" target=\"_parent\"><img src=\"https://colab.research.google.com/assets/colab-badge.svg\" alt=\"Open In Colab\"/></a>"
      ]
    },
    {
      "cell_type": "code",
      "execution_count": 2,
      "metadata": {
        "colab": {
          "base_uri": "https://localhost:8080/"
        },
        "id": "6L7wqpkFJbby",
        "outputId": "7b194d4e-d2ca-4adc-985c-32f19893bfa4"
      },
      "outputs": [
        {
          "output_type": "stream",
          "name": "stdout",
          "text": [
            "2.3.1+cu121\n"
          ]
        }
      ],
      "source": [
        "import torch\n",
        "import pandas as pd\n",
        "import numpy as np\n",
        "import matplotlib.pyplot as plt\n",
        "print(torch.__version__)\n",
        "\n"
      ]
    },
    {
      "cell_type": "code",
      "source": [
        "\n",
        "#scalar\n",
        "scalar = torch.tensor(7)\n",
        "scalar\n"
      ],
      "metadata": {
        "colab": {
          "base_uri": "https://localhost:8080/"
        },
        "id": "Yhgr_7KfJuaH",
        "outputId": "4fe9e856-526d-4345-f755-ef70d1c55dd5"
      },
      "execution_count": 2,
      "outputs": [
        {
          "output_type": "execute_result",
          "data": {
            "text/plain": [
              "tensor(7)"
            ]
          },
          "metadata": {},
          "execution_count": 2
        }
      ]
    },
    {
      "cell_type": "code",
      "source": [
        "scalar.ndim\n"
      ],
      "metadata": {
        "colab": {
          "base_uri": "https://localhost:8080/"
        },
        "id": "UkEcxqzmJ2tl",
        "outputId": "07bf15c1-887c-41c2-9f89-5edc2c10fea1"
      },
      "execution_count": 3,
      "outputs": [
        {
          "output_type": "execute_result",
          "data": {
            "text/plain": [
              "0"
            ]
          },
          "metadata": {},
          "execution_count": 3
        }
      ]
    },
    {
      "cell_type": "code",
      "source": [
        " # get tensor back as python int\n",
        " scalar.item()\n",
        ""
      ],
      "metadata": {
        "colab": {
          "base_uri": "https://localhost:8080/"
        },
        "id": "gj-oEb1hJ8jj",
        "outputId": "1890a525-bd2a-45bb-c9c9-c7411b95d0b3"
      },
      "execution_count": 4,
      "outputs": [
        {
          "output_type": "execute_result",
          "data": {
            "text/plain": [
              "7"
            ]
          },
          "metadata": {},
          "execution_count": 4
        }
      ]
    },
    {
      "cell_type": "code",
      "source": [
        "#Vector\n",
        "vector = torch.tensor([7,7])\n",
        "vector"
      ],
      "metadata": {
        "colab": {
          "base_uri": "https://localhost:8080/"
        },
        "id": "1EU0iwMDQo0q",
        "outputId": "5c38236d-1bf3-450f-972f-e86e9cb8b3e4"
      },
      "execution_count": 3,
      "outputs": [
        {
          "output_type": "execute_result",
          "data": {
            "text/plain": [
              "tensor([7, 7])"
            ]
          },
          "metadata": {},
          "execution_count": 3
        }
      ]
    },
    {
      "cell_type": "code",
      "source": [
        "vector.ndim\n"
      ],
      "metadata": {
        "colab": {
          "base_uri": "https://localhost:8080/"
        },
        "id": "8e_eIvBMjq6C",
        "outputId": "019ef6db-c8d7-4932-83c8-a05c0e7b1955"
      },
      "execution_count": 4,
      "outputs": [
        {
          "output_type": "execute_result",
          "data": {
            "text/plain": [
              "1"
            ]
          },
          "metadata": {},
          "execution_count": 4
        }
      ]
    },
    {
      "cell_type": "code",
      "source": [
        "vector.shape"
      ],
      "metadata": {
        "colab": {
          "base_uri": "https://localhost:8080/"
        },
        "id": "vEcVsunOk6kL",
        "outputId": "431ed388-ff04-41fe-d2ea-fb965ea9533d"
      },
      "execution_count": 5,
      "outputs": [
        {
          "output_type": "execute_result",
          "data": {
            "text/plain": [
              "torch.Size([2])"
            ]
          },
          "metadata": {},
          "execution_count": 5
        }
      ]
    },
    {
      "cell_type": "code",
      "source": [
        "#matrix\n",
        "MATRIX = torch.tensor([[7,8],\n",
        "                       [9,10]])\n",
        "MATRIX"
      ],
      "metadata": {
        "colab": {
          "base_uri": "https://localhost:8080/"
        },
        "id": "Oh7jykGEk-RW",
        "outputId": "9def8009-17ad-4ee1-cbb5-828a67e55eb9"
      },
      "execution_count": 6,
      "outputs": [
        {
          "output_type": "execute_result",
          "data": {
            "text/plain": [
              "tensor([[ 7,  8],\n",
              "        [ 9, 10]])"
            ]
          },
          "metadata": {},
          "execution_count": 6
        }
      ]
    },
    {
      "cell_type": "code",
      "source": [
        "MATRIX[1]\n"
      ],
      "metadata": {
        "colab": {
          "base_uri": "https://localhost:8080/"
        },
        "id": "LeeHxjtYmrHp",
        "outputId": "ce9f5a73-3b55-428c-d926-7375bb7e450e"
      },
      "execution_count": 8,
      "outputs": [
        {
          "output_type": "execute_result",
          "data": {
            "text/plain": [
              "tensor([ 9, 10])"
            ]
          },
          "metadata": {},
          "execution_count": 8
        }
      ]
    },
    {
      "cell_type": "code",
      "source": [
        "MATRIX.shape"
      ],
      "metadata": {
        "colab": {
          "base_uri": "https://localhost:8080/"
        },
        "id": "d71gkMFynHYx",
        "outputId": "99fe168c-c5cc-45c1-876d-7c1f216071a4"
      },
      "execution_count": 10,
      "outputs": [
        {
          "output_type": "execute_result",
          "data": {
            "text/plain": [
              "torch.Size([2, 2])"
            ]
          },
          "metadata": {},
          "execution_count": 10
        }
      ]
    },
    {
      "cell_type": "code",
      "source": [
        "#Tensor\n",
        "TENSOR = torch.tensor([[[1,2,3],\n",
        "                        [3,4,9],\n",
        "                        [2,4,5]]])\n",
        "TENSOR\n"
      ],
      "metadata": {
        "colab": {
          "base_uri": "https://localhost:8080/"
        },
        "id": "xMmfg8b8nk2Z",
        "outputId": "3b690c67-3cb8-4d25-cbc7-88192ef3c60d"
      },
      "execution_count": 12,
      "outputs": [
        {
          "output_type": "execute_result",
          "data": {
            "text/plain": [
              "tensor([[[1, 2, 3],\n",
              "         [3, 4, 9],\n",
              "         [2, 4, 5]]])"
            ]
          },
          "metadata": {},
          "execution_count": 12
        }
      ]
    },
    {
      "cell_type": "code",
      "source": [
        "TENSOR.ndim"
      ],
      "metadata": {
        "colab": {
          "base_uri": "https://localhost:8080/"
        },
        "id": "2IzUTGwDoSsc",
        "outputId": "ba536b2e-3426-4273-c1a5-2253c1213adf"
      },
      "execution_count": 13,
      "outputs": [
        {
          "output_type": "execute_result",
          "data": {
            "text/plain": [
              "3"
            ]
          },
          "metadata": {},
          "execution_count": 13
        }
      ]
    },
    {
      "cell_type": "code",
      "source": [
        "TENSOR.shape\n"
      ],
      "metadata": {
        "colab": {
          "base_uri": "https://localhost:8080/"
        },
        "id": "6a3v3ZXzozBJ",
        "outputId": "fed0b327-be59-4959-a189-bc4a244ffade"
      },
      "execution_count": 14,
      "outputs": [
        {
          "output_type": "execute_result",
          "data": {
            "text/plain": [
              "torch.Size([1, 3, 3])"
            ]
          },
          "metadata": {},
          "execution_count": 14
        }
      ]
    },
    {
      "cell_type": "code",
      "source": [
        "TENSOR[0]"
      ],
      "metadata": {
        "colab": {
          "base_uri": "https://localhost:8080/"
        },
        "id": "58eM7MI4pJGM",
        "outputId": "0035806c-1f33-4b65-b8df-443e57634544"
      },
      "execution_count": 15,
      "outputs": [
        {
          "output_type": "execute_result",
          "data": {
            "text/plain": [
              "tensor([[1, 2, 3],\n",
              "        [3, 4, 9],\n",
              "        [2, 4, 5]])"
            ]
          },
          "metadata": {},
          "execution_count": 15
        }
      ]
    },
    {
      "cell_type": "code",
      "source": [
        "#CREATE A RANDOM TENSOR OF SIZE (3,4)\n",
        "random_tensor = torch.rand(2,3,4)\n",
        "random_tensor"
      ],
      "metadata": {
        "colab": {
          "base_uri": "https://localhost:8080/"
        },
        "id": "YaPqC8EhpQ-x",
        "outputId": "7281d6a0-98ee-4d52-ac92-01475036787f"
      },
      "execution_count": 18,
      "outputs": [
        {
          "output_type": "execute_result",
          "data": {
            "text/plain": [
              "tensor([[[0.5605, 0.9078, 0.0920, 0.1063],\n",
              "         [0.2259, 0.8706, 0.1797, 0.0144],\n",
              "         [0.1769, 0.6028, 0.4374, 0.8613]],\n",
              "\n",
              "        [[0.3177, 0.9940, 0.2007, 0.1448],\n",
              "         [0.1061, 0.5465, 0.2035, 0.3049],\n",
              "         [0.3848, 0.9038, 0.3784, 0.9573]]])"
            ]
          },
          "metadata": {},
          "execution_count": 18
        }
      ]
    },
    {
      "cell_type": "code",
      "source": [
        "# create a random tensor with similar shape to an image tensor\n",
        "random_image_size_tensor = torch.rand(size=(224,224,3))#height,width,color channel\n",
        "random_image_size_tensor.shape, random_image_size_tensor.ndim\n",
        "random_image_size_tensor\n"
      ],
      "metadata": {
        "colab": {
          "base_uri": "https://localhost:8080/"
        },
        "id": "SvwbmJG0uV_8",
        "outputId": "f46e96da-9a55-4bec-8cd6-bc47fcc7dbbc"
      },
      "execution_count": 20,
      "outputs": [
        {
          "output_type": "execute_result",
          "data": {
            "text/plain": [
              "tensor([[[0.5202, 0.9383, 0.7825],\n",
              "         [0.3314, 0.3964, 0.3410],\n",
              "         [0.4165, 0.7886, 0.8932],\n",
              "         ...,\n",
              "         [0.6881, 0.3534, 0.3101],\n",
              "         [0.0527, 0.1336, 0.8663],\n",
              "         [0.4876, 0.2751, 0.5396]],\n",
              "\n",
              "        [[0.3165, 0.8259, 0.0160],\n",
              "         [0.9465, 0.7267, 0.0128],\n",
              "         [0.4964, 0.8393, 0.3210],\n",
              "         ...,\n",
              "         [0.3062, 0.6321, 0.9585],\n",
              "         [0.3919, 0.6407, 0.7825],\n",
              "         [0.6265, 0.3592, 0.8940]],\n",
              "\n",
              "        [[0.1617, 0.4038, 0.0297],\n",
              "         [0.1521, 0.8045, 0.1434],\n",
              "         [0.1276, 0.9634, 0.4046],\n",
              "         ...,\n",
              "         [0.9224, 0.0760, 0.9516],\n",
              "         [0.3996, 0.4240, 0.7071],\n",
              "         [0.4935, 0.2242, 0.8700]],\n",
              "\n",
              "        ...,\n",
              "\n",
              "        [[0.3335, 0.2710, 0.7782],\n",
              "         [0.6529, 0.5263, 0.4630],\n",
              "         [0.9675, 0.9240, 0.0697],\n",
              "         ...,\n",
              "         [0.0432, 0.1372, 0.0453],\n",
              "         [0.9775, 0.5536, 0.8220],\n",
              "         [0.2356, 0.6680, 0.9095]],\n",
              "\n",
              "        [[0.0253, 0.0090, 0.7534],\n",
              "         [0.4929, 0.2810, 0.1731],\n",
              "         [0.2000, 0.7687, 0.3416],\n",
              "         ...,\n",
              "         [0.8859, 0.7761, 0.7538],\n",
              "         [0.9605, 0.2309, 0.1628],\n",
              "         [0.1971, 0.5941, 0.7943]],\n",
              "\n",
              "        [[0.1105, 0.3547, 0.4093],\n",
              "         [0.9877, 0.3977, 0.8315],\n",
              "         [0.4442, 0.3842, 0.5139],\n",
              "         ...,\n",
              "         [0.0337, 0.4038, 0.5285],\n",
              "         [0.2717, 0.1266, 0.5954],\n",
              "         [0.2638, 0.2591, 0.1349]]])"
            ]
          },
          "metadata": {},
          "execution_count": 20
        }
      ]
    },
    {
      "cell_type": "code",
      "source": [],
      "metadata": {
        "id": "MY3grwdjwDnc"
      },
      "execution_count": null,
      "outputs": []
    },
    {
      "cell_type": "code",
      "source": [
        "random_tensor.ndim"
      ],
      "metadata": {
        "colab": {
          "base_uri": "https://localhost:8080/"
        },
        "id": "dCNlGauttmbw",
        "outputId": "f6770c29-94e7-4ddd-d280-1981ff1aea8a"
      },
      "execution_count": 17,
      "outputs": [
        {
          "output_type": "execute_result",
          "data": {
            "text/plain": [
              "2"
            ]
          },
          "metadata": {},
          "execution_count": 17
        }
      ]
    },
    {
      "cell_type": "code",
      "source": [
        "random = torch.rand(size =(4,5))\n",
        "random\n"
      ],
      "metadata": {
        "colab": {
          "base_uri": "https://localhost:8080/"
        },
        "id": "8oEDQPc_wER7",
        "outputId": "a3ed2c2e-92ff-4471-a0e6-f4fa3759bdcd"
      },
      "execution_count": 28,
      "outputs": [
        {
          "output_type": "execute_result",
          "data": {
            "text/plain": [
              "tensor([[0.1578, 0.6890, 0.0159, 0.7215, 0.8934],\n",
              "        [0.8718, 0.1716, 0.2377, 0.2284, 0.7986],\n",
              "        [0.9122, 0.0934, 0.9292, 0.7760, 0.7839],\n",
              "        [0.6195, 0.0547, 0.9592, 0.7718, 0.7734]])"
            ]
          },
          "metadata": {},
          "execution_count": 28
        }
      ]
    },
    {
      "cell_type": "code",
      "source": [
        "#zero to ones\n",
        "#create a tensor of all zeros\n",
        "zeros = torch.zeros(size=(3,4))\n",
        "zeros"
      ],
      "metadata": {
        "colab": {
          "base_uri": "https://localhost:8080/"
        },
        "id": "8-0OD0Ryxye9",
        "outputId": "4932290e-2559-4219-ccf5-f2c009885cff"
      },
      "execution_count": 29,
      "outputs": [
        {
          "output_type": "execute_result",
          "data": {
            "text/plain": [
              "tensor([[0., 0., 0., 0.],\n",
              "        [0., 0., 0., 0.],\n",
              "        [0., 0., 0., 0.]])"
            ]
          },
          "metadata": {},
          "execution_count": 29
        }
      ]
    },
    {
      "cell_type": "code",
      "source": [
        "zeros*random_tensor"
      ],
      "metadata": {
        "colab": {
          "base_uri": "https://localhost:8080/"
        },
        "id": "-NiuuCOvyk7e",
        "outputId": "df2f5d4f-067b-48b1-eb54-7bd20c99e1bc"
      },
      "execution_count": 30,
      "outputs": [
        {
          "output_type": "execute_result",
          "data": {
            "text/plain": [
              "tensor([[[0., 0., 0., 0.],\n",
              "         [0., 0., 0., 0.],\n",
              "         [0., 0., 0., 0.]],\n",
              "\n",
              "        [[0., 0., 0., 0.],\n",
              "         [0., 0., 0., 0.],\n",
              "         [0., 0., 0., 0.]]])"
            ]
          },
          "metadata": {},
          "execution_count": 30
        }
      ]
    },
    {
      "cell_type": "code",
      "source": [
        "#create a tensor of all ones\n",
        "ones = torch.ones(size =(3,4))\n",
        "ones"
      ],
      "metadata": {
        "colab": {
          "base_uri": "https://localhost:8080/"
        },
        "id": "fQfP5BhSyuJ2",
        "outputId": "8e732ba8-51ae-45f3-da1a-f7cc676f7ab7"
      },
      "execution_count": 31,
      "outputs": [
        {
          "output_type": "execute_result",
          "data": {
            "text/plain": [
              "tensor([[1., 1., 1., 1.],\n",
              "        [1., 1., 1., 1.],\n",
              "        [1., 1., 1., 1.]])"
            ]
          },
          "metadata": {},
          "execution_count": 31
        }
      ]
    },
    {
      "cell_type": "code",
      "source": [
        "ones.dtype"
      ],
      "metadata": {
        "colab": {
          "base_uri": "https://localhost:8080/"
        },
        "id": "UcaVoVZlzOrH",
        "outputId": "be13d545-da21-4d50-e901-3f52bfcdc630"
      },
      "execution_count": 32,
      "outputs": [
        {
          "output_type": "execute_result",
          "data": {
            "text/plain": [
              "torch.float32"
            ]
          },
          "metadata": {},
          "execution_count": 32
        }
      ]
    },
    {
      "cell_type": "code",
      "source": [
        "#use torch.range() and get deprecated message, use torch.arrange()\n",
        "one_to_ten = torch.arange(start=0, end=100, step = 10)\n",
        "one_to_ten"
      ],
      "metadata": {
        "colab": {
          "base_uri": "https://localhost:8080/"
        },
        "id": "9_THdWnlzSdb",
        "outputId": "886a1368-777c-4435-bcab-e0e717aa9f7d"
      },
      "execution_count": 38,
      "outputs": [
        {
          "output_type": "execute_result",
          "data": {
            "text/plain": [
              "tensor([ 0, 10, 20, 30, 40, 50, 60, 70, 80, 90])"
            ]
          },
          "metadata": {},
          "execution_count": 38
        }
      ]
    },
    {
      "cell_type": "code",
      "source": [],
      "metadata": {
        "id": "YgGZ_WX10tyF"
      },
      "execution_count": null,
      "outputs": []
    },
    {
      "cell_type": "code",
      "source": [
        "torch.__version__"
      ],
      "metadata": {
        "colab": {
          "base_uri": "https://localhost:8080/",
          "height": 36
        },
        "id": "ufO9qu1d0GZr",
        "outputId": "6b449d0c-009e-4e13-c864-61fdd05c9428"
      },
      "execution_count": 34,
      "outputs": [
        {
          "output_type": "execute_result",
          "data": {
            "text/plain": [
              "'2.3.1+cu121'"
            ],
            "application/vnd.google.colaboratory.intrinsic+json": {
              "type": "string"
            }
          },
          "metadata": {},
          "execution_count": 34
        }
      ]
    },
    {
      "cell_type": "code",
      "source": [
        "#creating tensors like\n",
        "ten_zeros = torch.zeros_like(input = one_to_ten)\n",
        "ten_zeros\n"
      ],
      "metadata": {
        "colab": {
          "base_uri": "https://localhost:8080/"
        },
        "id": "YyYG9RuV0u1C",
        "outputId": "0023dcc2-238f-440b-d14d-ab20f866053d"
      },
      "execution_count": 39,
      "outputs": [
        {
          "output_type": "execute_result",
          "data": {
            "text/plain": [
              "tensor([0, 0, 0, 0, 0, 0, 0, 0, 0, 0])"
            ]
          },
          "metadata": {},
          "execution_count": 39
        }
      ]
    },
    {
      "cell_type": "code",
      "source": [
        "### tensor datatypes\n",
        "#Float 32 tensor\n",
        "float_32_tensor = torch.tensor([3.0, 6.0, 9.0],\n",
        "                               dtype = torch.float16,\n",
        "                               device = None,# what device is your tensor on\n",
        "                               requires_grad = False)#whether or not to track gradients with this tensors operations\n",
        "float_32_tensor\n"
      ],
      "metadata": {
        "colab": {
          "base_uri": "https://localhost:8080/"
        },
        "id": "I-lUm-rb1z1f",
        "outputId": "72569ae4-c15c-48f1-ad04-5cfb759ce731"
      },
      "execution_count": 49,
      "outputs": [
        {
          "output_type": "execute_result",
          "data": {
            "text/plain": [
              "tensor([3., 6., 9.], dtype=torch.float16)"
            ]
          },
          "metadata": {},
          "execution_count": 49
        }
      ]
    },
    {
      "cell_type": "code",
      "source": [
        "float_32_tensor.device"
      ],
      "metadata": {
        "colab": {
          "base_uri": "https://localhost:8080/"
        },
        "id": "dNTwD4km3GyA",
        "outputId": "fec4b9a8-14aa-4188-b32c-73addba54a97"
      },
      "execution_count": 47,
      "outputs": [
        {
          "output_type": "execute_result",
          "data": {
            "text/plain": [
              "device(type='cpu')"
            ]
          },
          "metadata": {},
          "execution_count": 47
        }
      ]
    },
    {
      "cell_type": "code",
      "source": [
        "###tensor datatypes\n",
        "**Note:** Tensor datatypes is one of the 3 big erroe you'll run through Pytorch"
      ],
      "metadata": {
        "id": "GO6YUknQ3YoR"
      },
      "execution_count": null,
      "outputs": []
    },
    {
      "cell_type": "code",
      "source": [
        "float_16_tensor = float_32_tensor.type(torch.float16)\n",
        "float_16_tensor"
      ],
      "metadata": {
        "colab": {
          "base_uri": "https://localhost:8080/"
        },
        "id": "O2OcIigj6aLY",
        "outputId": "227a9eee-3c4f-4ce7-b928-718b27fed6e1"
      },
      "execution_count": 50,
      "outputs": [
        {
          "output_type": "execute_result",
          "data": {
            "text/plain": [
              "tensor([3., 6., 9.], dtype=torch.float16)"
            ]
          },
          "metadata": {},
          "execution_count": 50
        }
      ]
    },
    {
      "cell_type": "code",
      "source": [
        "float_16_tensor * float_32_tensor"
      ],
      "metadata": {
        "colab": {
          "base_uri": "https://localhost:8080/"
        },
        "id": "HwIaHhpM_Do-",
        "outputId": "c59f83c9-3490-4a65-fe9c-955c7c7246e3"
      },
      "execution_count": 51,
      "outputs": [
        {
          "output_type": "execute_result",
          "data": {
            "text/plain": [
              "tensor([ 9., 36., 81.], dtype=torch.float16)"
            ]
          },
          "metadata": {},
          "execution_count": 51
        }
      ]
    },
    {
      "cell_type": "code",
      "source": [
        "int_32_tensor = torch.tensor([3,6,9], dtype = torch.int64)\n",
        "int_32_tensor"
      ],
      "metadata": {
        "colab": {
          "base_uri": "https://localhost:8080/"
        },
        "id": "k2TYwHICAYDk",
        "outputId": "c31e0d8c-aa05-407f-c9f8-e1fbb21c0051"
      },
      "execution_count": 55,
      "outputs": [
        {
          "output_type": "execute_result",
          "data": {
            "text/plain": [
              "tensor([3, 6, 9])"
            ]
          },
          "metadata": {},
          "execution_count": 55
        }
      ]
    },
    {
      "cell_type": "code",
      "source": [],
      "metadata": {
        "id": "O02KxOaNB4s4"
      },
      "execution_count": null,
      "outputs": []
    },
    {
      "cell_type": "code",
      "source": [
        "float_32_tensor * int_32_tensor"
      ],
      "metadata": {
        "colab": {
          "base_uri": "https://localhost:8080/"
        },
        "id": "iINpWmWDBL1o",
        "outputId": "f19dc2f8-e40d-457b-b265-3215d0c151b3"
      },
      "execution_count": 54,
      "outputs": [
        {
          "output_type": "execute_result",
          "data": {
            "text/plain": [
              "tensor([ 9., 36., 81.], dtype=torch.float16)"
            ]
          },
          "metadata": {},
          "execution_count": 54
        }
      ]
    },
    {
      "cell_type": "code",
      "source": [
        "### getting information from tensors\n",
        "\n",
        "1. Tensors not right datatype - to do get datatype from a tensor, can use 'tensor.dtype'\n",
        "2. tensors not right shape - to get shape from a tensor, can use 'tensor.shape'\n",
        "3. tensors not on the right device - to get device from a tensor, can use tensor.device\n",
        "\n"
      ],
      "metadata": {
        "id": "tt1MjPGAB5s2"
      },
      "execution_count": null,
      "outputs": []
    },
    {
      "cell_type": "code",
      "source": [
        "# create  a tensor\n",
        "some_tensor = torch.rand(3,4)\n",
        "some_tensor"
      ],
      "metadata": {
        "colab": {
          "base_uri": "https://localhost:8080/"
        },
        "id": "xkaxvavBC6M9",
        "outputId": "a395616c-1d54-4c26-d90c-3c55f2fd20a1"
      },
      "execution_count": 57,
      "outputs": [
        {
          "output_type": "execute_result",
          "data": {
            "text/plain": [
              "tensor([[0.6766, 0.0407, 0.8341, 0.6977],\n",
              "        [0.1883, 0.7165, 0.6454, 0.2842],\n",
              "        [0.5414, 0.4905, 0.5292, 0.0147]])"
            ]
          },
          "metadata": {},
          "execution_count": 57
        }
      ]
    },
    {
      "cell_type": "code",
      "source": [
        "print(some_tensor)\n",
        "print(f\"Datatype of tensor:{some_tensor.dtype}\")\n",
        "print(f\"Shape of tensor:{some_tensor.shape}\")\n",
        "print(f\"device tensor is on:{some_tensor.device}\")\n",
        "\n"
      ],
      "metadata": {
        "colab": {
          "base_uri": "https://localhost:8080/"
        },
        "id": "f27JHdEyEO8i",
        "outputId": "c5ec1cf5-bbe4-487e-8abb-3ab2e16b4339"
      },
      "execution_count": 58,
      "outputs": [
        {
          "output_type": "stream",
          "name": "stdout",
          "text": [
            "tensor([[0.6766, 0.0407, 0.8341, 0.6977],\n",
            "        [0.1883, 0.7165, 0.6454, 0.2842],\n",
            "        [0.5414, 0.4905, 0.5292, 0.0147]])\n",
            "Datatype of tensor:torch.float32\n",
            "Shape of tensor:torch.Size([3, 4])\n",
            "device tensor is on:cpu\n"
          ]
        }
      ]
    },
    {
      "cell_type": "code",
      "source": [
        "###  Manipulating tensors(tensor operation)\n",
        "#create a tensor\n",
        "tensor = torch.tensor([1,2,3])\n",
        "tensor + 10\n"
      ],
      "metadata": {
        "colab": {
          "base_uri": "https://localhost:8080/"
        },
        "id": "WxPOWiQWF4fd",
        "outputId": "53f9780a-fe05-46c7-dc09-3cb3c5272c5d"
      },
      "execution_count": 60,
      "outputs": [
        {
          "output_type": "execute_result",
          "data": {
            "text/plain": [
              "tensor([11, 12, 13])"
            ]
          },
          "metadata": {},
          "execution_count": 60
        }
      ]
    },
    {
      "cell_type": "code",
      "source": [
        "#multiply tensor by 10\n",
        "tensor * 10"
      ],
      "metadata": {
        "colab": {
          "base_uri": "https://localhost:8080/"
        },
        "id": "FOHLiVWBHO9o",
        "outputId": "c3cb08c8-b0de-498b-c7b5-1df83043a66a"
      },
      "execution_count": 61,
      "outputs": [
        {
          "output_type": "execute_result",
          "data": {
            "text/plain": [
              "tensor([10, 20, 30])"
            ]
          },
          "metadata": {},
          "execution_count": 61
        }
      ]
    },
    {
      "cell_type": "code",
      "source": [
        "tensor\n"
      ],
      "metadata": {
        "colab": {
          "base_uri": "https://localhost:8080/"
        },
        "id": "KCcAO8FBHe4q",
        "outputId": "5fde217d-3b86-41af-87f7-76ff7b511d74"
      },
      "execution_count": 62,
      "outputs": [
        {
          "output_type": "execute_result",
          "data": {
            "text/plain": [
              "tensor([1, 2, 3])"
            ]
          },
          "metadata": {},
          "execution_count": 62
        }
      ]
    },
    {
      "cell_type": "code",
      "source": [
        "tensor - 10"
      ],
      "metadata": {
        "colab": {
          "base_uri": "https://localhost:8080/"
        },
        "id": "HWPE4GpKHmiy",
        "outputId": "04ca642f-3842-41e9-fbde-2eb077a837e7"
      },
      "execution_count": 63,
      "outputs": [
        {
          "output_type": "execute_result",
          "data": {
            "text/plain": [
              "tensor([-9, -8, -7])"
            ]
          },
          "metadata": {},
          "execution_count": 63
        }
      ]
    },
    {
      "cell_type": "code",
      "source": [
        "torch.matmul(tensor,tensor)"
      ],
      "metadata": {
        "colab": {
          "base_uri": "https://localhost:8080/"
        },
        "id": "3bkCydzFHrwE",
        "outputId": "c12a310a-eb7b-4032-ca74-563b90980a43"
      },
      "execution_count": 64,
      "outputs": [
        {
          "output_type": "execute_result",
          "data": {
            "text/plain": [
              "tensor(14)"
            ]
          },
          "metadata": {},
          "execution_count": 64
        }
      ]
    },
    {
      "cell_type": "code",
      "source": [
        "%%time\n",
        "value = 0\n",
        "for i in range(len(tensor)):\n",
        "  value += tensor[i] * tensor[i]\n",
        "print(value)"
      ],
      "metadata": {
        "colab": {
          "base_uri": "https://localhost:8080/"
        },
        "id": "fQOBVl5fLS7b",
        "outputId": "cb322966-c841-44d7-98bb-530959935aa5"
      },
      "execution_count": 66,
      "outputs": [
        {
          "output_type": "stream",
          "name": "stdout",
          "text": [
            "tensor(14)\n",
            "CPU times: user 1.74 ms, sys: 116 µs, total: 1.86 ms\n",
            "Wall time: 5.85 ms\n"
          ]
        }
      ]
    },
    {
      "cell_type": "code",
      "source": [
        "%%time\n",
        "torch.matmul(tensor,tensor)"
      ],
      "metadata": {
        "colab": {
          "base_uri": "https://localhost:8080/"
        },
        "id": "kbYymUDsNlA-",
        "outputId": "6ab89fcd-ce8e-47b0-e990-8052b76bab8a"
      },
      "execution_count": 67,
      "outputs": [
        {
          "output_type": "stream",
          "name": "stdout",
          "text": [
            "CPU times: user 417 µs, sys: 56 µs, total: 473 µs\n",
            "Wall time: 381 µs\n"
          ]
        },
        {
          "output_type": "execute_result",
          "data": {
            "text/plain": [
              "tensor(14)"
            ]
          },
          "metadata": {},
          "execution_count": 67
        }
      ]
    }
  ]
}